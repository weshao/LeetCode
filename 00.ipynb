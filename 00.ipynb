{
 "metadata": {
  "language_info": {
   "codemirror_mode": {
    "name": "ipython",
    "version": 3
   },
   "file_extension": ".py",
   "mimetype": "text/x-python",
   "name": "python",
   "nbconvert_exporter": "python",
   "pygments_lexer": "ipython3",
   "version": "3.7.5-final"
  },
  "orig_nbformat": 2,
  "kernelspec": {
   "name": "python3",
   "display_name": "Python 3.7.5 64-bit ('dl': conda)",
   "metadata": {
    "interpreter": {
     "hash": "109cc1e510070c317e23cacceb7ef631aec28273d295e0809c72b666df96927f"
    }
   }
  }
 },
 "nbformat": 4,
 "nbformat_minor": 2,
 "cells": [
  {
   "cell_type": "code",
   "execution_count": 2,
   "metadata": {},
   "outputs": [
    {
     "output_type": "execute_result",
     "data": {
      "text/plain": "{'a': 1, 'b': 2}"
     },
     "metadata": {},
     "execution_count": 2
    }
   ],
   "source": [
    "hashmap = {'a': 1, 'b': 2}\n",
    "hashmap"
   ]
  },
  {
   "cell_type": "code",
   "execution_count": 9,
   "metadata": {},
   "outputs": [
    {
     "output_type": "execute_result",
     "data": {
      "text/plain": "dict_values([1, 2])"
     },
     "metadata": {},
     "execution_count": 9
    }
   ],
   "source": [
    "hashmap.values()"
   ]
  },
  {
   "cell_type": "code",
   "execution_count": 10,
   "metadata": {},
   "outputs": [],
   "source": [
    "def reserveList(head):\n",
    "    prev = None\n",
    "    while head is not None:\n",
    "        next = head.next\n",
    "        head.next = prev\n",
    "        prev = head\n",
    "        head = next\n",
    "    return prev"
   ]
  },
  {
   "cell_type": "code",
   "execution_count": 11,
   "metadata": {},
   "outputs": [],
   "source": [
    "def reserveList2(head):\n",
    "    if head is None or head.next is None:\n",
    "        return head\n",
    "    curl = self.reserveList2(head.next)\n",
    "    head.next.next = head\n",
    "    head.next = None\n",
    "    return curl"
   ]
  },
  {
   "cell_type": "code",
   "execution_count": 12,
   "metadata": {},
   "outputs": [],
   "source": [
    "def reverseKGroup(head, k):\n",
    "    last_node_of_previous = None\n",
    "    last_node_of_sub = head\n",
    "    while True:\n",
    "        current = last_node_of_sub\n",
    "        previous = last_node_of_previous\n",
    "        i = 0\n",
    "        while current is not None and i < k:\n",
    "            next = current.next\n",
    "            current.next = previous\n",
    "            previous = current\n",
    "            current = next\n",
    "            i += 1\n",
    "        if i == k:\n",
    "            if last_node_of_previous is None:\n",
    "                head = previous\n",
    "            else:\n",
    "                last_node_of_previous.next = previous\n",
    "            \n",
    "            last_node_of_sub.next = current\n",
    "            last_node_of_previous = last_node_of_sub\n",
    "            if current is None:\n",
    "                break\n",
    "            last_node_of_sub = current\n",
    "        else:\n",
    "            current = previous\n",
    "            previous = None\n",
    "            while i:\n",
    "                next = current.next\n",
    "                current.next = previous\n",
    "                previous = current\n",
    "                current = next\n",
    "                i -= 1\n",
    "            last_node_of_previous.next = previous\n",
    "            break\n",
    "    return head"
   ]
  },
  {
   "cell_type": "code",
   "execution_count": 2,
   "metadata": {},
   "outputs": [],
   "source": [
    "def lengthOfLongestSubstring(s):\n",
    "    if s == '':\n",
    "        return 0\n",
    "    charDict = {}\n",
    "    start = 0\n",
    "    maxLength = 1\n",
    "    for end in range(len(s)):\n",
    "        rightChar = s[end]\n",
    "        if rightChar in charDict:\n",
    "            start = max(start, charDict[rightChar] + 1)\n",
    "        charDict[rightChar] = end\n",
    "        maxLength = max(maxLength, end - start + 1)\n",
    "    return maxLength"
   ]
  },
  {
   "cell_type": "code",
   "execution_count": 3,
   "metadata": {},
   "outputs": [],
   "source": [
    "def maxAera(height):\n",
    "    left, right = 0, len(height) - 1\n",
    "    maxWater = 0\n",
    "    while left < right:\n",
    "        maxWater = max(maxWater, (right - left) * min(height[left], height[right]))\n",
    "        if height[left] >= height[right]:\n",
    "            right -= 1\n",
    "        else:\n",
    "            left += 1\n",
    "    return maxWater"
   ]
  },
  {
   "cell_type": "code",
   "execution_count": 4,
   "metadata": {},
   "outputs": [],
   "source": [
    "class Solution:\n",
    "    def threeSum(nums):\n",
    "        result = []\n",
    "        nums.sort()\n",
    "        for i in range(len(nums)):\n",
    "            if i > 0 and nums[i] == nums[i-1]:\n",
    "                continue\n",
    "            find_two_sums(nums, -nums[i], i+1, result)\n",
    "        return result"
   ]
  },
  {
   "cell_type": "code",
   "execution_count": 7,
   "metadata": {},
   "outputs": [],
   "source": [
    "def merge(intervals):\n",
    "    if len(intervals) < 2:\n",
    "        return intervals\n",
    "    intervals.sort(key = lambda x: x[0])\n",
    "    mergedIntervals = []\n",
    "    start = intervals[0][0]\n",
    "    end = intervals [0][1]\n",
    "    for i in range(1, len(intervals)):\n",
    "        interval = intervals[i]\n",
    "        if interval[0] < end:\n",
    "            end = max(interval[1], end)\n",
    "        else:\n",
    "            mergedIntervals.append([start, end])\n",
    "            start = interval[0]\n",
    "            end = interval[1]\n",
    "    mergedIntervals.append([start, end])\n",
    "    return mergedIntervals"
   ]
  },
  {
   "cell_type": "code",
   "execution_count": 8,
   "metadata": {},
   "outputs": [],
   "source": [
    "def convert(s, numRows):\n",
    "    if numRows < 2: return s\n",
    "    res = [ '' for _ in range(numRows)]\n",
    "    i, flag = 0, -1\n",
    "    for c in s:\n",
    "        res[i] += c\n",
    "        if i == 0 or i == numRows - 1:\n",
    "            flag = -flag\n",
    "        i += flag\n",
    "    return ''.join(res)"
   ]
  },
  {
   "cell_type": "code",
   "execution_count": 10,
   "metadata": {},
   "outputs": [
    {
     "output_type": "execute_result",
     "data": {
      "text/plain": "{'a', 'b', 'c'}"
     },
     "metadata": {},
     "execution_count": 10
    }
   ],
   "source": [
    "a = set('abca')\n",
    "a"
   ]
  },
  {
   "cell_type": "code",
   "execution_count": 11,
   "metadata": {},
   "outputs": [],
   "source": [
    "b = set('cba')"
   ]
  },
  {
   "cell_type": "code",
   "execution_count": 12,
   "metadata": {},
   "outputs": [
    {
     "output_type": "execute_result",
     "data": {
      "text/plain": "True"
     },
     "metadata": {},
     "execution_count": 12
    }
   ],
   "source": [
    "a == b"
   ]
  },
  {
   "cell_type": "code",
   "execution_count": 3,
   "metadata": {},
   "outputs": [],
   "source": [
    "a = input()"
   ]
  },
  {
   "cell_type": "code",
   "execution_count": 4,
   "metadata": {},
   "outputs": [
    {
     "output_type": "execute_result",
     "data": {
      "text/plain": "'dbbv'"
     },
     "metadata": {},
     "execution_count": 4
    }
   ],
   "source": [
    "a"
   ]
  },
  {
   "cell_type": "code",
   "execution_count": 5,
   "metadata": {},
   "outputs": [
    {
     "output_type": "execute_result",
     "data": {
      "text/plain": "['dbbv']"
     },
     "metadata": {},
     "execution_count": 5
    }
   ],
   "source": [
    "a.split()"
   ]
  },
  {
   "cell_type": "code",
   "execution_count": null,
   "metadata": {},
   "outputs": [],
   "source": []
  },
  {
   "cell_type": "code",
   "execution_count": 1,
   "metadata": {},
   "outputs": [],
   "source": [
    "class TreeNode:\n",
    "    def __init__(self, val=0, left=None, right=None):\n",
    "        self.val = val\n",
    "        self.left = left\n",
    "        self.right = right\n",
    "\n"
   ]
  },
  {
   "cell_type": "code",
   "execution_count": 2,
   "metadata": {},
   "outputs": [],
   "source": [
    "tree = TreeNode(1)"
   ]
  },
  {
   "cell_type": "code",
   "execution_count": 3,
   "metadata": {},
   "outputs": [],
   "source": [
    "tree.left = TreeNode(2)\n",
    "tree.right = TreeNode(3)"
   ]
  },
  {
   "cell_type": "code",
   "execution_count": 4,
   "metadata": {},
   "outputs": [
    {
     "output_type": "stream",
     "name": "stdout",
     "text": [
      "<__main__.TreeNode object at 0x7fa6e9530d90>\n"
     ]
    }
   ],
   "source": [
    "print(tree)"
   ]
  },
  {
   "cell_type": "code",
   "execution_count": 5,
   "metadata": {},
   "outputs": [],
   "source": [
    "tree.left.left = TreeNode(4)"
   ]
  },
  {
   "cell_type": "code",
   "execution_count": 6,
   "metadata": {},
   "outputs": [],
   "source": [
    "tree.left = tree.left.left"
   ]
  },
  {
   "cell_type": "code",
   "execution_count": 7,
   "metadata": {},
   "outputs": [
    {
     "output_type": "execute_result",
     "data": {
      "text/plain": [
       "4"
      ]
     },
     "metadata": {},
     "execution_count": 7
    }
   ],
   "source": [
    "tree.left.val"
   ]
  },
  {
   "cell_type": "code",
   "execution_count": 4,
   "metadata": {},
   "outputs": [],
   "source": [
    "def test(num, alist):\n",
    "    num += 2\n",
    "    print(num)\n",
    "    alist.append(2)\n",
    "    print(alist)"
   ]
  },
  {
   "cell_type": "code",
   "execution_count": 5,
   "metadata": {},
   "outputs": [
    {
     "output_type": "stream",
     "name": "stdout",
     "text": [
      "3\n[2]\n1\n[2]\n"
     ]
    }
   ],
   "source": [
    "num = 1\n",
    "alist = []\n",
    "test(1, alist)\n",
    "print(num)\n",
    "print(alist)"
   ]
  },
  {
   "cell_type": "code",
   "execution_count": null,
   "metadata": {},
   "outputs": [],
   "source": []
  }
 ]
}